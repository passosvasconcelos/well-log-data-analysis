{
  "nbformat": 4,
  "nbformat_minor": 0,
  "metadata": {
    "kernelspec": {
      "display_name": "Python 3",
      "language": "python",
      "name": "python3"
    },
    "language_info": {
      "codemirror_mode": {
        "name": "ipython",
        "version": 3
      },
      "file_extension": ".py",
      "mimetype": "text/x-python",
      "name": "python",
      "nbconvert_exporter": "python",
      "pygments_lexer": "ipython3",
      "version": "3.8.3"
    },
    "colab": {
      "name": "Log Analysis Python.ipynb",
      "provenance": [],
      "include_colab_link": true
    }
  },
  "cells": [
    {
      "cell_type": "markdown",
      "metadata": {
        "id": "view-in-github",
        "colab_type": "text"
      },
      "source": [
        "<a href=\"https://colab.research.google.com/github/passosvasconcelos/well-log-data-analysis/blob/main/Log%20Analysis%20Python.ipynb\" target=\"_parent\"><img src=\"https://colab.research.google.com/assets/colab-badge.svg\" alt=\"Open In Colab\"/></a>"
      ]
    },
    {
      "cell_type": "code",
      "metadata": {
        "id": "B0lqUXt7ABdJ",
        "outputId": "7125f924-a45b-483f-d441-900ac100495a",
        "colab": {
          "base_uri": "https://localhost:8080/"
        }
      },
      "source": [
        "#!pip install seaborn\r\n",
        "#!pip install lasio"
      ],
      "execution_count": 4,
      "outputs": [
        {
          "output_type": "stream",
          "text": [
            "Collecting lasio\n",
            "  Downloading https://files.pythonhosted.org/packages/5e/8e/ce58a22ec8454a12f92333a50f2add5f6131218c4815952d6ca7cbd578f0/lasio-0.28-py3-none-any.whl\n",
            "Requirement already satisfied: numpy in /usr/local/lib/python3.6/dist-packages (from lasio) (1.19.5)\n",
            "Installing collected packages: lasio\n",
            "Successfully installed lasio-0.28\n"
          ],
          "name": "stdout"
        }
      ]
    },
    {
      "cell_type": "code",
      "metadata": {
        "id": "ivGW_KYYABdL"
      },
      "source": [
        "%matplotlib inline\n",
        "import pandas as pd\n",
        "import numpy as np\n",
        "import lasio\n",
        "import seaborn as sns\n",
        "\n",
        "# Machine learning libraries\n",
        "\n",
        "from sklearn.preprocessing import scale\n",
        "from sklearn.decomposition import FactorAnalysis\n",
        "from sklearn.cluster import KMeans\n",
        "\n",
        "# Visualization libraries\n",
        "import matplotlib.pylab as plt\n",
        "import matplotlib.colors as colors\n",
        "import matplotlib as mpl\n",
        "from mpl_toolkits.axes_grid1 import make_axes_locatable\n",
        "import seaborn as sns"
      ],
      "execution_count": 5,
      "outputs": []
    },
    {
      "cell_type": "code",
      "metadata": {
        "id": "P5g_kMsPABdL",
        "outputId": "fa0d1a53-d7e2-400c-80d3-63301a6802fe",
        "colab": {
          "base_uri": "https://localhost:8080/",
          "height": 380
        }
      },
      "source": [
        "dataset = {}\n",
        "faciesset = {}\n",
        "mnemonic_description = {}\n",
        "mnemonic_unit = {}\n",
        "lasfiles = ['1-api-1-pr_wire.las',\n",
        "           '1-ca-3-pr_wire.las',\n",
        "           '1-cs-2-pr_wire.las',\n",
        "           '1-gb-1-pr_wire.las',\n",
        "           '1-gp-1-pr_wire.las',\n",
        "           '1-mo-1-pr_wire.las',\n",
        "           '1-mo-2-pr_wire.las',\n",
        "           '1-r-1-pr_wire.las',\n",
        "           '1-rca-1-pr_wire.las',\n",
        "           '1-ro-1-pr_wire.las',\n",
        "           '1-rs-1-pr_wire.las',\n",
        "           '2-an-1-pr_wire.las',\n",
        "           '2-ri-1-pr_wire.las',\n",
        "           '2-rp-1-pr_wire.las',\n",
        "           '2-tb-1-pr_wire.las']\n",
        "\n",
        "for file in lasfiles:\n",
        "    las = lasio.read(file)\n",
        "    dataset[las.well.WELL.value] = las.df()\n",
        "    faciesset[las.well.WELL.value] = pd.read_csv(las.well.WELL.value+'_lith.csv')\n",
        "    for i in las.curves:\n",
        "        mnemonic_description[i.mnemonic] = i.descr\n",
        "        mnemonic_unit[i.mnemonic] = i.unit\n",
        "    \n",
        "    \n",
        "#faciesfiles = ['1-api-1-pr_lith.csv',\n",
        "#              '1-ca-3-pr_lith.csv',\n",
        "#              '1-cost-1p-pr_lith.csv',\n",
        "#              '1-cs-2-pr_lith.csv',\n",
        "#              '1-gb-1-pr_lith.csv',\n",
        "#              '1-gp-1-pr_lith.csv',\n",
        "#              '1-mo-1-pr_lith.csv',\n",
        "#              '1-mo-2-pr_lith.csv',\n",
        "#              '1-r-1-pr_lith.csv',\n",
        "#              '1-rca-1-pr_lith.csv',\n",
        "#              '1-ro-1-pr_lith.csv',\n",
        "#              '1-rs-1-pr_lith.csv',\n",
        "#              '2-an-1-pr_lith.csv',\n",
        "#              '2-ri-1-pr_lith.csv',\n",
        "#              '2-rp-1-pr_lith.csv',\n",
        "#              '2-tb-1-pr_lith.csv']\n",
        "\n",
        "\n",
        "\n",
        "\n"
      ],
      "execution_count": 6,
      "outputs": [
        {
          "output_type": "error",
          "ename": "FileNotFoundError",
          "evalue": "ignored",
          "traceback": [
            "\u001b[0;31m---------------------------------------------------------------------------\u001b[0m",
            "\u001b[0;31mFileNotFoundError\u001b[0m                         Traceback (most recent call last)",
            "\u001b[0;32m<ipython-input-6-112b78a35cf2>\u001b[0m in \u001b[0;36m<module>\u001b[0;34m()\u001b[0m\n\u001b[1;32m     20\u001b[0m \u001b[0;34m\u001b[0m\u001b[0m\n\u001b[1;32m     21\u001b[0m \u001b[0;32mfor\u001b[0m \u001b[0mfile\u001b[0m \u001b[0;32min\u001b[0m \u001b[0mlasfiles\u001b[0m\u001b[0;34m:\u001b[0m\u001b[0;34m\u001b[0m\u001b[0;34m\u001b[0m\u001b[0m\n\u001b[0;32m---> 22\u001b[0;31m     \u001b[0mlas\u001b[0m \u001b[0;34m=\u001b[0m \u001b[0mlasio\u001b[0m\u001b[0;34m.\u001b[0m\u001b[0mread\u001b[0m\u001b[0;34m(\u001b[0m\u001b[0mfile\u001b[0m\u001b[0;34m)\u001b[0m\u001b[0;34m\u001b[0m\u001b[0;34m\u001b[0m\u001b[0m\n\u001b[0m\u001b[1;32m     23\u001b[0m     \u001b[0mdataset\u001b[0m\u001b[0;34m[\u001b[0m\u001b[0mlas\u001b[0m\u001b[0;34m.\u001b[0m\u001b[0mwell\u001b[0m\u001b[0;34m.\u001b[0m\u001b[0mWELL\u001b[0m\u001b[0;34m.\u001b[0m\u001b[0mvalue\u001b[0m\u001b[0;34m]\u001b[0m \u001b[0;34m=\u001b[0m \u001b[0mlas\u001b[0m\u001b[0;34m.\u001b[0m\u001b[0mdf\u001b[0m\u001b[0;34m(\u001b[0m\u001b[0;34m)\u001b[0m\u001b[0;34m\u001b[0m\u001b[0;34m\u001b[0m\u001b[0m\n\u001b[1;32m     24\u001b[0m     \u001b[0mfaciesset\u001b[0m\u001b[0;34m[\u001b[0m\u001b[0mlas\u001b[0m\u001b[0;34m.\u001b[0m\u001b[0mwell\u001b[0m\u001b[0;34m.\u001b[0m\u001b[0mWELL\u001b[0m\u001b[0;34m.\u001b[0m\u001b[0mvalue\u001b[0m\u001b[0;34m]\u001b[0m \u001b[0;34m=\u001b[0m \u001b[0mpd\u001b[0m\u001b[0;34m.\u001b[0m\u001b[0mread_csv\u001b[0m\u001b[0;34m(\u001b[0m\u001b[0mlas\u001b[0m\u001b[0;34m.\u001b[0m\u001b[0mwell\u001b[0m\u001b[0;34m.\u001b[0m\u001b[0mWELL\u001b[0m\u001b[0;34m.\u001b[0m\u001b[0mvalue\u001b[0m\u001b[0;34m+\u001b[0m\u001b[0;34m'_lith.csv'\u001b[0m\u001b[0;34m)\u001b[0m\u001b[0;34m\u001b[0m\u001b[0;34m\u001b[0m\u001b[0m\n",
            "\u001b[0;32m/usr/local/lib/python3.6/dist-packages/lasio/__init__.py\u001b[0m in \u001b[0;36mread\u001b[0;34m(file_ref, **kwargs)\u001b[0m\n\u001b[1;32m     43\u001b[0m \u001b[0;34m\u001b[0m\u001b[0m\n\u001b[1;32m     44\u001b[0m     '''\n\u001b[0;32m---> 45\u001b[0;31m     \u001b[0;32mreturn\u001b[0m \u001b[0mLASFile\u001b[0m\u001b[0;34m(\u001b[0m\u001b[0mfile_ref\u001b[0m\u001b[0;34m,\u001b[0m \u001b[0;34m**\u001b[0m\u001b[0mkwargs\u001b[0m\u001b[0;34m)\u001b[0m\u001b[0;34m\u001b[0m\u001b[0;34m\u001b[0m\u001b[0m\n\u001b[0m",
            "\u001b[0;32m/usr/local/lib/python3.6/dist-packages/lasio/las.py\u001b[0m in \u001b[0;36m__init__\u001b[0;34m(self, file_ref, **read_kwargs)\u001b[0m\n\u001b[1;32m     79\u001b[0m \u001b[0;34m\u001b[0m\u001b[0m\n\u001b[1;32m     80\u001b[0m         \u001b[0;32mif\u001b[0m \u001b[0;32mnot\u001b[0m \u001b[0;34m(\u001b[0m\u001b[0mfile_ref\u001b[0m \u001b[0;32mis\u001b[0m \u001b[0;32mNone\u001b[0m\u001b[0;34m)\u001b[0m\u001b[0;34m:\u001b[0m\u001b[0;34m\u001b[0m\u001b[0;34m\u001b[0m\u001b[0m\n\u001b[0;32m---> 81\u001b[0;31m             \u001b[0mself\u001b[0m\u001b[0;34m.\u001b[0m\u001b[0mread\u001b[0m\u001b[0;34m(\u001b[0m\u001b[0mfile_ref\u001b[0m\u001b[0;34m,\u001b[0m \u001b[0;34m**\u001b[0m\u001b[0mread_kwargs\u001b[0m\u001b[0;34m)\u001b[0m\u001b[0;34m\u001b[0m\u001b[0;34m\u001b[0m\u001b[0m\n\u001b[0m\u001b[1;32m     82\u001b[0m \u001b[0;34m\u001b[0m\u001b[0m\n\u001b[1;32m     83\u001b[0m     def read(\n",
            "\u001b[0;32m/usr/local/lib/python3.6/dist-packages/lasio/las.py\u001b[0m in \u001b[0;36mread\u001b[0;34m(self, file_ref, ignore_data, read_policy, null_policy, ignore_header_errors, ignore_comments, mnemonic_case, index_unit, remove_data_line_filter, **kwargs)\u001b[0m\n\u001b[1;32m    129\u001b[0m         \u001b[0mfile_obj\u001b[0m \u001b[0;34m=\u001b[0m \u001b[0;34m\"\"\u001b[0m\u001b[0;34m\u001b[0m\u001b[0;34m\u001b[0m\u001b[0m\n\u001b[1;32m    130\u001b[0m         \u001b[0;32mtry\u001b[0m\u001b[0;34m:\u001b[0m\u001b[0;34m\u001b[0m\u001b[0;34m\u001b[0m\u001b[0m\n\u001b[0;32m--> 131\u001b[0;31m             \u001b[0mfile_obj\u001b[0m\u001b[0;34m,\u001b[0m \u001b[0mself\u001b[0m\u001b[0;34m.\u001b[0m\u001b[0mencoding\u001b[0m \u001b[0;34m=\u001b[0m \u001b[0mreader\u001b[0m\u001b[0;34m.\u001b[0m\u001b[0mopen_file\u001b[0m\u001b[0;34m(\u001b[0m\u001b[0mfile_ref\u001b[0m\u001b[0;34m,\u001b[0m \u001b[0;34m**\u001b[0m\u001b[0mkwargs\u001b[0m\u001b[0;34m)\u001b[0m\u001b[0;34m\u001b[0m\u001b[0;34m\u001b[0m\u001b[0m\n\u001b[0m\u001b[1;32m    132\u001b[0m \u001b[0;34m\u001b[0m\u001b[0m\n\u001b[1;32m    133\u001b[0m             logger.debug(\n",
            "\u001b[0;32m/usr/local/lib/python3.6/dist-packages/lasio/reader.py\u001b[0m in \u001b[0;36mopen_file\u001b[0;34m(file_ref, **encoding_kwargs)\u001b[0m\n\u001b[1;32m    124\u001b[0m             \u001b[0mfile_ref\u001b[0m \u001b[0;34m=\u001b[0m \u001b[0mStringIO\u001b[0m\u001b[0;34m(\u001b[0m\u001b[0mfile_ref\u001b[0m\u001b[0;34m)\u001b[0m\u001b[0;34m\u001b[0m\u001b[0;34m\u001b[0m\u001b[0m\n\u001b[1;32m    125\u001b[0m         \u001b[0;32melse\u001b[0m\u001b[0;34m:\u001b[0m  \u001b[0;31m# it must be a filename\u001b[0m\u001b[0;34m\u001b[0m\u001b[0;34m\u001b[0m\u001b[0m\n\u001b[0;32m--> 126\u001b[0;31m             \u001b[0mfile_ref\u001b[0m\u001b[0;34m,\u001b[0m \u001b[0mencoding\u001b[0m \u001b[0;34m=\u001b[0m \u001b[0mopen_with_codecs\u001b[0m\u001b[0;34m(\u001b[0m\u001b[0mfirst_line\u001b[0m\u001b[0;34m,\u001b[0m \u001b[0;34m**\u001b[0m\u001b[0mencoding_kwargs\u001b[0m\u001b[0;34m)\u001b[0m\u001b[0;34m\u001b[0m\u001b[0;34m\u001b[0m\u001b[0m\n\u001b[0m\u001b[1;32m    127\u001b[0m     \u001b[0;32mreturn\u001b[0m \u001b[0mfile_ref\u001b[0m\u001b[0;34m,\u001b[0m \u001b[0mencoding\u001b[0m\u001b[0;34m\u001b[0m\u001b[0;34m\u001b[0m\u001b[0m\n\u001b[1;32m    128\u001b[0m \u001b[0;34m\u001b[0m\u001b[0m\n",
            "\u001b[0;32m/usr/local/lib/python3.6/dist-packages/lasio/reader.py\u001b[0m in \u001b[0;36mopen_with_codecs\u001b[0;34m(filename, encoding, encoding_errors, autodetect_encoding, autodetect_encoding_chars)\u001b[0m\n\u001b[1;32m    169\u001b[0m \u001b[0;34m\u001b[0m\u001b[0m\n\u001b[1;32m    170\u001b[0m     \u001b[0;31m# Forget [c]chardet - if we can locate the BOM we just assume that's correct.\u001b[0m\u001b[0;34m\u001b[0m\u001b[0;34m\u001b[0m\u001b[0;34m\u001b[0m\u001b[0m\n\u001b[0;32m--> 171\u001b[0;31m     \u001b[0mnbytes_test\u001b[0m \u001b[0;34m=\u001b[0m \u001b[0mmin\u001b[0m\u001b[0;34m(\u001b[0m\u001b[0;36m32\u001b[0m\u001b[0;34m,\u001b[0m \u001b[0mos\u001b[0m\u001b[0;34m.\u001b[0m\u001b[0mpath\u001b[0m\u001b[0;34m.\u001b[0m\u001b[0mgetsize\u001b[0m\u001b[0;34m(\u001b[0m\u001b[0mfilename\u001b[0m\u001b[0;34m)\u001b[0m\u001b[0;34m)\u001b[0m\u001b[0;34m\u001b[0m\u001b[0;34m\u001b[0m\u001b[0m\n\u001b[0m\u001b[1;32m    172\u001b[0m     \u001b[0;32mwith\u001b[0m \u001b[0mopen\u001b[0m\u001b[0;34m(\u001b[0m\u001b[0mfilename\u001b[0m\u001b[0;34m,\u001b[0m \u001b[0mmode\u001b[0m\u001b[0;34m=\u001b[0m\u001b[0;34m\"rb\"\u001b[0m\u001b[0;34m)\u001b[0m \u001b[0;32mas\u001b[0m \u001b[0mtest\u001b[0m\u001b[0;34m:\u001b[0m\u001b[0;34m\u001b[0m\u001b[0;34m\u001b[0m\u001b[0m\n\u001b[1;32m    173\u001b[0m         \u001b[0mraw\u001b[0m \u001b[0;34m=\u001b[0m \u001b[0mtest\u001b[0m\u001b[0;34m.\u001b[0m\u001b[0mread\u001b[0m\u001b[0;34m(\u001b[0m\u001b[0mnbytes_test\u001b[0m\u001b[0;34m)\u001b[0m\u001b[0;34m\u001b[0m\u001b[0;34m\u001b[0m\u001b[0m\n",
            "\u001b[0;32m/usr/lib/python3.6/genericpath.py\u001b[0m in \u001b[0;36mgetsize\u001b[0;34m(filename)\u001b[0m\n\u001b[1;32m     48\u001b[0m \u001b[0;32mdef\u001b[0m \u001b[0mgetsize\u001b[0m\u001b[0;34m(\u001b[0m\u001b[0mfilename\u001b[0m\u001b[0;34m)\u001b[0m\u001b[0;34m:\u001b[0m\u001b[0;34m\u001b[0m\u001b[0;34m\u001b[0m\u001b[0m\n\u001b[1;32m     49\u001b[0m     \u001b[0;34m\"\"\"Return the size of a file, reported by os.stat().\"\"\"\u001b[0m\u001b[0;34m\u001b[0m\u001b[0;34m\u001b[0m\u001b[0m\n\u001b[0;32m---> 50\u001b[0;31m     \u001b[0;32mreturn\u001b[0m \u001b[0mos\u001b[0m\u001b[0;34m.\u001b[0m\u001b[0mstat\u001b[0m\u001b[0;34m(\u001b[0m\u001b[0mfilename\u001b[0m\u001b[0;34m)\u001b[0m\u001b[0;34m.\u001b[0m\u001b[0mst_size\u001b[0m\u001b[0;34m\u001b[0m\u001b[0;34m\u001b[0m\u001b[0m\n\u001b[0m\u001b[1;32m     51\u001b[0m \u001b[0;34m\u001b[0m\u001b[0m\n\u001b[1;32m     52\u001b[0m \u001b[0;34m\u001b[0m\u001b[0m\n",
            "\u001b[0;31mFileNotFoundError\u001b[0m: [Errno 2] No such file or directory: '1-api-1-pr_wire.las'"
          ]
        }
      ]
    },
    {
      "cell_type": "code",
      "metadata": {
        "id": "d8IL3TQKABdM"
      },
      "source": [
        "dataset.keys()"
      ],
      "execution_count": null,
      "outputs": []
    },
    {
      "cell_type": "code",
      "metadata": {
        "id": "-AgpBzwKABdM"
      },
      "source": [
        "mnemonic_description"
      ],
      "execution_count": null,
      "outputs": []
    },
    {
      "cell_type": "code",
      "metadata": {
        "id": "pQfhBAF0ABdM"
      },
      "source": [
        "mnemonic_unit"
      ],
      "execution_count": null,
      "outputs": []
    },
    {
      "cell_type": "code",
      "metadata": {
        "id": "gOEivKkqABdN"
      },
      "source": [
        "for well, logs in dataset.items():\n",
        "    print('\\nwell: '+well)\n",
        "    print(logs.info())"
      ],
      "execution_count": null,
      "outputs": []
    },
    {
      "cell_type": "code",
      "metadata": {
        "id": "dFMNRloTABdN",
        "outputId": "22dfaf66-d797-4570-ed19-63d4841a0486"
      },
      "source": [
        "for well, logs in dataset.items():\n",
        "    dataset[well] = dataset[well].rename_axis('DEPTH').reset_index()\n",
        "dataset['1-CA-3-PR'][['DEPTH', 'GR:1','GR:2']].iloc[3475:3490,:]"
      ],
      "execution_count": null,
      "outputs": [
        {
          "output_type": "execute_result",
          "data": {
            "text/html": [
              "<div>\n",
              "<style scoped>\n",
              "    .dataframe tbody tr th:only-of-type {\n",
              "        vertical-align: middle;\n",
              "    }\n",
              "\n",
              "    .dataframe tbody tr th {\n",
              "        vertical-align: top;\n",
              "    }\n",
              "\n",
              "    .dataframe thead th {\n",
              "        text-align: right;\n",
              "    }\n",
              "</style>\n",
              "<table border=\"1\" class=\"dataframe\">\n",
              "  <thead>\n",
              "    <tr style=\"text-align: right;\">\n",
              "      <th></th>\n",
              "      <th>DEPTH</th>\n",
              "      <th>GR:1</th>\n",
              "      <th>GR:2</th>\n",
              "    </tr>\n",
              "  </thead>\n",
              "  <tbody>\n",
              "    <tr>\n",
              "      <th>3475</th>\n",
              "      <td>1577.6448</td>\n",
              "      <td>50.1957</td>\n",
              "      <td>NaN</td>\n",
              "    </tr>\n",
              "    <tr>\n",
              "      <th>3476</th>\n",
              "      <td>1577.7972</td>\n",
              "      <td>50.1939</td>\n",
              "      <td>NaN</td>\n",
              "    </tr>\n",
              "    <tr>\n",
              "      <th>3477</th>\n",
              "      <td>1577.9496</td>\n",
              "      <td>50.4866</td>\n",
              "      <td>NaN</td>\n",
              "    </tr>\n",
              "    <tr>\n",
              "      <th>3478</th>\n",
              "      <td>1578.1020</td>\n",
              "      <td>51.0818</td>\n",
              "      <td>NaN</td>\n",
              "    </tr>\n",
              "    <tr>\n",
              "      <th>3479</th>\n",
              "      <td>1578.2544</td>\n",
              "      <td>51.6770</td>\n",
              "      <td>NaN</td>\n",
              "    </tr>\n",
              "    <tr>\n",
              "      <th>3480</th>\n",
              "      <td>1578.4068</td>\n",
              "      <td>53.1661</td>\n",
              "      <td>NaN</td>\n",
              "    </tr>\n",
              "    <tr>\n",
              "      <th>3481</th>\n",
              "      <td>1578.5592</td>\n",
              "      <td>53.7607</td>\n",
              "      <td>NaN</td>\n",
              "    </tr>\n",
              "    <tr>\n",
              "      <th>3482</th>\n",
              "      <td>1578.7116</td>\n",
              "      <td>54.6523</td>\n",
              "      <td>NaN</td>\n",
              "    </tr>\n",
              "    <tr>\n",
              "      <th>3483</th>\n",
              "      <td>1578.8640</td>\n",
              "      <td>54.6499</td>\n",
              "      <td>NaN</td>\n",
              "    </tr>\n",
              "    <tr>\n",
              "      <th>3484</th>\n",
              "      <td>1579.0164</td>\n",
              "      <td>NaN</td>\n",
              "      <td>48.5</td>\n",
              "    </tr>\n",
              "    <tr>\n",
              "      <th>3485</th>\n",
              "      <td>1579.1688</td>\n",
              "      <td>NaN</td>\n",
              "      <td>48.0</td>\n",
              "    </tr>\n",
              "    <tr>\n",
              "      <th>3486</th>\n",
              "      <td>1579.3212</td>\n",
              "      <td>NaN</td>\n",
              "      <td>45.3</td>\n",
              "    </tr>\n",
              "    <tr>\n",
              "      <th>3487</th>\n",
              "      <td>1579.4736</td>\n",
              "      <td>NaN</td>\n",
              "      <td>43.7</td>\n",
              "    </tr>\n",
              "    <tr>\n",
              "      <th>3488</th>\n",
              "      <td>1579.6260</td>\n",
              "      <td>NaN</td>\n",
              "      <td>44.0</td>\n",
              "    </tr>\n",
              "    <tr>\n",
              "      <th>3489</th>\n",
              "      <td>1579.7784</td>\n",
              "      <td>NaN</td>\n",
              "      <td>45.0</td>\n",
              "    </tr>\n",
              "  </tbody>\n",
              "</table>\n",
              "</div>"
            ],
            "text/plain": [
              "          DEPTH     GR:1  GR:2\n",
              "3475  1577.6448  50.1957   NaN\n",
              "3476  1577.7972  50.1939   NaN\n",
              "3477  1577.9496  50.4866   NaN\n",
              "3478  1578.1020  51.0818   NaN\n",
              "3479  1578.2544  51.6770   NaN\n",
              "3480  1578.4068  53.1661   NaN\n",
              "3481  1578.5592  53.7607   NaN\n",
              "3482  1578.7116  54.6523   NaN\n",
              "3483  1578.8640  54.6499   NaN\n",
              "3484  1579.0164      NaN  48.5\n",
              "3485  1579.1688      NaN  48.0\n",
              "3486  1579.3212      NaN  45.3\n",
              "3487  1579.4736      NaN  43.7\n",
              "3488  1579.6260      NaN  44.0\n",
              "3489  1579.7784      NaN  45.0"
            ]
          },
          "metadata": {
            "tags": []
          },
          "execution_count": 3
        }
      ]
    },
    {
      "cell_type": "code",
      "metadata": {
        "id": "1BCCq1fZABdN"
      },
      "source": [
        "for well, logs in dataset.items():\n",
        "    loganterior='--:--'\n",
        "    for log in logs:\n",
        "        if \":\" in log:\n",
        "            if loganterior.split(\":\")[0] == log.split(':')[0]:\n",
        "                dataset[well][log] = logs[loganterior].fillna(logs[log])\n",
        "                dataset[well].pop(loganterior)\n",
        "            loganterior=log\n",
        "    for log in logs:\n",
        "        if \":\" in log:\n",
        "            dataset[well][log.split(\":\")[0]] = dataset[well][log]\n",
        "            dataset[well].pop(log)"
      ],
      "execution_count": null,
      "outputs": []
    },
    {
      "cell_type": "code",
      "metadata": {
        "id": "GZFMOommABdO",
        "outputId": "bdb4d408-cf62-4b7a-ea16-9af08be47948"
      },
      "source": [
        "dataset['1-CA-3-PR'][['DEPTH', 'GR']].iloc[3475:3490,:]"
      ],
      "execution_count": null,
      "outputs": [
        {
          "output_type": "execute_result",
          "data": {
            "text/html": [
              "<div>\n",
              "<style scoped>\n",
              "    .dataframe tbody tr th:only-of-type {\n",
              "        vertical-align: middle;\n",
              "    }\n",
              "\n",
              "    .dataframe tbody tr th {\n",
              "        vertical-align: top;\n",
              "    }\n",
              "\n",
              "    .dataframe thead th {\n",
              "        text-align: right;\n",
              "    }\n",
              "</style>\n",
              "<table border=\"1\" class=\"dataframe\">\n",
              "  <thead>\n",
              "    <tr style=\"text-align: right;\">\n",
              "      <th></th>\n",
              "      <th>DEPTH</th>\n",
              "      <th>GR</th>\n",
              "    </tr>\n",
              "  </thead>\n",
              "  <tbody>\n",
              "    <tr>\n",
              "      <th>3475</th>\n",
              "      <td>1577.6448</td>\n",
              "      <td>50.1957</td>\n",
              "    </tr>\n",
              "    <tr>\n",
              "      <th>3476</th>\n",
              "      <td>1577.7972</td>\n",
              "      <td>50.1939</td>\n",
              "    </tr>\n",
              "    <tr>\n",
              "      <th>3477</th>\n",
              "      <td>1577.9496</td>\n",
              "      <td>50.4866</td>\n",
              "    </tr>\n",
              "    <tr>\n",
              "      <th>3478</th>\n",
              "      <td>1578.1020</td>\n",
              "      <td>51.0818</td>\n",
              "    </tr>\n",
              "    <tr>\n",
              "      <th>3479</th>\n",
              "      <td>1578.2544</td>\n",
              "      <td>51.6770</td>\n",
              "    </tr>\n",
              "    <tr>\n",
              "      <th>3480</th>\n",
              "      <td>1578.4068</td>\n",
              "      <td>53.1661</td>\n",
              "    </tr>\n",
              "    <tr>\n",
              "      <th>3481</th>\n",
              "      <td>1578.5592</td>\n",
              "      <td>53.7607</td>\n",
              "    </tr>\n",
              "    <tr>\n",
              "      <th>3482</th>\n",
              "      <td>1578.7116</td>\n",
              "      <td>54.6523</td>\n",
              "    </tr>\n",
              "    <tr>\n",
              "      <th>3483</th>\n",
              "      <td>1578.8640</td>\n",
              "      <td>54.6499</td>\n",
              "    </tr>\n",
              "    <tr>\n",
              "      <th>3484</th>\n",
              "      <td>1579.0164</td>\n",
              "      <td>48.5000</td>\n",
              "    </tr>\n",
              "    <tr>\n",
              "      <th>3485</th>\n",
              "      <td>1579.1688</td>\n",
              "      <td>48.0000</td>\n",
              "    </tr>\n",
              "    <tr>\n",
              "      <th>3486</th>\n",
              "      <td>1579.3212</td>\n",
              "      <td>45.3000</td>\n",
              "    </tr>\n",
              "    <tr>\n",
              "      <th>3487</th>\n",
              "      <td>1579.4736</td>\n",
              "      <td>43.7000</td>\n",
              "    </tr>\n",
              "    <tr>\n",
              "      <th>3488</th>\n",
              "      <td>1579.6260</td>\n",
              "      <td>44.0000</td>\n",
              "    </tr>\n",
              "    <tr>\n",
              "      <th>3489</th>\n",
              "      <td>1579.7784</td>\n",
              "      <td>45.0000</td>\n",
              "    </tr>\n",
              "  </tbody>\n",
              "</table>\n",
              "</div>"
            ],
            "text/plain": [
              "          DEPTH       GR\n",
              "3475  1577.6448  50.1957\n",
              "3476  1577.7972  50.1939\n",
              "3477  1577.9496  50.4866\n",
              "3478  1578.1020  51.0818\n",
              "3479  1578.2544  51.6770\n",
              "3480  1578.4068  53.1661\n",
              "3481  1578.5592  53.7607\n",
              "3482  1578.7116  54.6523\n",
              "3483  1578.8640  54.6499\n",
              "3484  1579.0164  48.5000\n",
              "3485  1579.1688  48.0000\n",
              "3486  1579.3212  45.3000\n",
              "3487  1579.4736  43.7000\n",
              "3488  1579.6260  44.0000\n",
              "3489  1579.7784  45.0000"
            ]
          },
          "metadata": {
            "tags": []
          },
          "execution_count": 5
        }
      ]
    },
    {
      "cell_type": "code",
      "metadata": {
        "id": "iD2s4RaXABdO"
      },
      "source": [
        "for well, logs in dataset.items():\n",
        "    print('\\nwell: '+well)\n",
        "    print(dataset[well].info())"
      ],
      "execution_count": null,
      "outputs": []
    },
    {
      "cell_type": "code",
      "metadata": {
        "id": "6IrzUOJcABdO"
      },
      "source": [
        "dataset['1-CA-3-PR'] = dataset['1-CA-3-PR'][['DEPTH', 'CALI', 'GR', 'DT', 'RLN']]\n",
        "dataset['1-CS-2-PR'] = dataset['1-CS-2-PR'][['DEPTH', 'CAL2', 'GR', 'DT', 'ILD']].rename(columns={\"CAL2\": \"CALI\", \"ILD\": \"RLN\"})\n",
        "dataset['1-MO-2-PR'] = dataset['1-MO-2-PR'][['DEPTH', 'GR', 'DT', 'RLN']]\n",
        "dataset['1-RS-1-PR'] = dataset['1-RS-1-PR'][['DEPTH', 'CALI', 'GR', 'DT', 'ILD']].rename(columns={\"ILD\": \"RLN\"})\n",
        "dataset['2-TB-1-PR'] = dataset['2-TB-1-PR'][['DEPTH', 'CALI', 'GR', 'DT', 'RLN']]\n",
        "dataset['2-RI-1-PR'] = dataset['2-RI-1-PR'][['DEPTH', 'CALI', 'GR', 'DT', 'ILD']].rename(columns={\"ILD\": \"RLN\"})\n",
        "dataset['1-RO-1-PR'] = dataset['1-RO-1-PR'][['DEPTH', 'CALI', 'GR', 'DT', 'ILD']].rename(columns={\"ILD\": \"RLN\"})\n",
        "dataset['2-RP-1-PR'] = dataset['2-RP-1-PR'][['DEPTH', 'CALI', 'GR', 'DT', 'ILD']].rename(columns={\"ILD\": \"RLN\"})\n",
        "dataset['2-AN-1-PR'] = dataset['2-AN-1-PR'][['DEPTH', 'CALI', 'GR', 'DT', 'ILD']].rename(columns={\"ILD\": \"RLN\"})\n",
        "dataset['1-GB-1-PR'] = dataset['1-GB-1-PR'][['DEPTH', 'CALI', 'GR', 'DT', 'ILD']].rename(columns={\"ILD\": \"RLN\"})\n",
        "dataset['1-API-1-PR'] = dataset['1-API-1-PR'][['DEPTH', 'CALI', 'GR', 'DT', 'RLN']]\n",
        "dataset['1-MO-1-PR'] = dataset['1-MO-1-PR'][['DEPTH', 'GR', 'DT', 'RLN']]\n",
        "dataset['1-RCA-1-PR'] = dataset['1-RCA-1-PR'][['DEPTH', 'CALI', 'GR', 'DT', 'ILD']].rename(columns={\"ILD\": \"RLN\"})\n",
        "dataset['1-GP-1-PR'] = dataset['1-GP-1-PR'][['DEPTH', 'CALI', 'GR', 'DT', 'ILD']].rename(columns={\"ILD\": \"RLN\"})\n",
        "dataset['1-R-1-PR'] = dataset['1-R-1-PR'][['DEPTH', 'GR', 'DT', 'RLN']]\n"
      ],
      "execution_count": null,
      "outputs": []
    },
    {
      "cell_type": "code",
      "metadata": {
        "id": "R-QXf4uMABdP"
      },
      "source": [
        "for well, logs in dataset.items():\n",
        "    print('\\nwell: '+well)\n",
        "    print(dataset[well].info())"
      ],
      "execution_count": null,
      "outputs": []
    },
    {
      "cell_type": "code",
      "metadata": {
        "id": "whMpqOWsABdP"
      },
      "source": [
        "dataset['1-RCA-1-PR'].head()"
      ],
      "execution_count": null,
      "outputs": []
    },
    {
      "cell_type": "code",
      "metadata": {
        "id": "emA7vKPTABdP"
      },
      "source": [
        "for well, logs in dataset.items():\n",
        "    dataset[well] = dataset[well].set_index('DEPTH').join(faciesset[well].set_index('DEPTH'))\n",
        "    dataset[well] = pd.merge_ordered(dataset[well], faciesset[well], fill_method=\"ffill\", on=\"DEPTH\")\n",
        "    dataset[well].pop('LITHOLOGY_x')\n",
        "    dataset[well]['LITHOLOGY'] = dataset[well]['LITHOLOGY_y']\n",
        "    dataset[well].pop('LITHOLOGY_y')"
      ],
      "execution_count": null,
      "outputs": []
    },
    {
      "cell_type": "code",
      "metadata": {
        "id": "lWMitYa_ABdP",
        "outputId": "548b114f-df26-4004-c60d-21d25135fc24"
      },
      "source": [
        "dataset['2-RP-1-PR'].head()"
      ],
      "execution_count": null,
      "outputs": [
        {
          "output_type": "execute_result",
          "data": {
            "text/html": [
              "<div>\n",
              "<style scoped>\n",
              "    .dataframe tbody tr th:only-of-type {\n",
              "        vertical-align: middle;\n",
              "    }\n",
              "\n",
              "    .dataframe tbody tr th {\n",
              "        vertical-align: top;\n",
              "    }\n",
              "\n",
              "    .dataframe thead th {\n",
              "        text-align: right;\n",
              "    }\n",
              "</style>\n",
              "<table border=\"1\" class=\"dataframe\">\n",
              "  <thead>\n",
              "    <tr style=\"text-align: right;\">\n",
              "      <th></th>\n",
              "      <th>DEPTH</th>\n",
              "      <th>CALI</th>\n",
              "      <th>GR</th>\n",
              "      <th>DT</th>\n",
              "      <th>RLN</th>\n",
              "      <th>LITHOLOGY</th>\n",
              "    </tr>\n",
              "  </thead>\n",
              "  <tbody>\n",
              "    <tr>\n",
              "      <th>0</th>\n",
              "      <td>3263.55</td>\n",
              "      <td>275.0972</td>\n",
              "      <td>52.8071</td>\n",
              "      <td>59.0856</td>\n",
              "      <td>17.0216</td>\n",
              "      <td>SS</td>\n",
              "    </tr>\n",
              "    <tr>\n",
              "      <th>1</th>\n",
              "      <td>3263.70</td>\n",
              "      <td>NaN</td>\n",
              "      <td>NaN</td>\n",
              "      <td>NaN</td>\n",
              "      <td>NaN</td>\n",
              "      <td>SS</td>\n",
              "    </tr>\n",
              "    <tr>\n",
              "      <th>2</th>\n",
              "      <td>3263.85</td>\n",
              "      <td>274.0980</td>\n",
              "      <td>55.3565</td>\n",
              "      <td>58.6048</td>\n",
              "      <td>17.3357</td>\n",
              "      <td>SS</td>\n",
              "    </tr>\n",
              "    <tr>\n",
              "      <th>3</th>\n",
              "      <td>3264.00</td>\n",
              "      <td>272.8349</td>\n",
              "      <td>57.1590</td>\n",
              "      <td>58.1130</td>\n",
              "      <td>17.3389</td>\n",
              "      <td>SS</td>\n",
              "    </tr>\n",
              "    <tr>\n",
              "      <th>4</th>\n",
              "      <td>3264.15</td>\n",
              "      <td>271.8199</td>\n",
              "      <td>56.7190</td>\n",
              "      <td>57.8145</td>\n",
              "      <td>17.3445</td>\n",
              "      <td>SS</td>\n",
              "    </tr>\n",
              "  </tbody>\n",
              "</table>\n",
              "</div>"
            ],
            "text/plain": [
              "     DEPTH      CALI       GR       DT      RLN LITHOLOGY\n",
              "0  3263.55  275.0972  52.8071  59.0856  17.0216        SS\n",
              "1  3263.70       NaN      NaN      NaN      NaN        SS\n",
              "2  3263.85  274.0980  55.3565  58.6048  17.3357        SS\n",
              "3  3264.00  272.8349  57.1590  58.1130  17.3389        SS\n",
              "4  3264.15  271.8199  56.7190  57.8145  17.3445        SS"
            ]
          },
          "metadata": {
            "tags": []
          },
          "execution_count": 8
        }
      ]
    },
    {
      "cell_type": "code",
      "metadata": {
        "id": "M7hf3sQNABdQ"
      },
      "source": [
        "#for well, logs in dataset.items():\n",
        "    \n",
        "    #dataset[well] = dataset[well][['GR', 'DT', 'RLN']]\n",
        "#    dataset[well] = dataset[well].dropna(axis=0, how='any')\n",
        "    \n",
        "    "
      ],
      "execution_count": null,
      "outputs": []
    },
    {
      "cell_type": "code",
      "metadata": {
        "id": "UDWaXjMQABdQ",
        "outputId": "dfd24f6f-768a-42ca-8bc5-cdde633a746c"
      },
      "source": [
        "for well, logs in dataset.items():\n",
        "    print('\\nwell: '+well)\n",
        "    print(dataset[well].isna().sum())"
      ],
      "execution_count": null,
      "outputs": [
        {
          "output_type": "stream",
          "text": [
            "\n",
            "well: 1-CA-3-PR\n",
            "DEPTH            0\n",
            "CALI         10480\n",
            "GR            6844\n",
            "DT            6857\n",
            "RLN          10483\n",
            "LITHOLOGY        0\n",
            "dtype: int64\n",
            "\n",
            "well: 1-CS-2-PR\n",
            "DEPTH            0\n",
            "CALI         21134\n",
            "GR           21152\n",
            "DT           21546\n",
            "RLN          21546\n",
            "LITHOLOGY        0\n",
            "dtype: int64\n",
            "\n",
            "well: 1-MO-2-PR\n",
            "DEPTH        0\n",
            "GR           0\n",
            "DT           0\n",
            "RLN          0\n",
            "LITHOLOGY    0\n",
            "dtype: int64\n",
            "\n",
            "well: 1-RS-1-PR\n",
            "DEPTH            0\n",
            "CALI         12522\n",
            "GR           12557\n",
            "DT           12558\n",
            "RLN          12551\n",
            "LITHOLOGY        0\n",
            "dtype: int64\n",
            "\n",
            "well: 2-TB-1-PR\n",
            "DEPTH          0\n",
            "CALI         352\n",
            "GR            38\n",
            "DT           367\n",
            "RLN          280\n",
            "LITHOLOGY     12\n",
            "dtype: int64\n",
            "\n",
            "well: 2-RI-1-PR\n",
            "DEPTH          0\n",
            "CALI         199\n",
            "GR           251\n",
            "DT           242\n",
            "RLN          230\n",
            "LITHOLOGY      0\n",
            "dtype: int64\n",
            "\n",
            "well: 1-RO-1-PR\n",
            "DEPTH            0\n",
            "CALI         19819\n",
            "GR           19865\n",
            "DT           21897\n",
            "RLN          19872\n",
            "LITHOLOGY        0\n",
            "dtype: int64\n",
            "\n",
            "well: 2-RP-1-PR\n",
            "DEPTH          0\n",
            "CALI         185\n",
            "GR           224\n",
            "DT           185\n",
            "RLN          169\n",
            "LITHOLOGY      0\n",
            "dtype: int64\n",
            "\n",
            "well: 2-AN-1-PR\n",
            "DEPTH           0\n",
            "CALI          279\n",
            "GR            923\n",
            "DT            997\n",
            "RLN          4095\n",
            "LITHOLOGY       0\n",
            "dtype: int64\n",
            "\n",
            "well: 1-GB-1-PR\n",
            "DEPTH            0\n",
            "CALI         81315\n",
            "GR           42203\n",
            "DT           40891\n",
            "RLN          40331\n",
            "LITHOLOGY        0\n",
            "dtype: int64\n",
            "\n",
            "well: 1-API-1-PR\n",
            "DEPTH          0\n",
            "CALI         400\n",
            "GR           410\n",
            "DT           266\n",
            "RLN          443\n",
            "LITHOLOGY      0\n",
            "dtype: int64\n",
            "\n",
            "well: 1-MO-1-PR\n",
            "DEPTH          0\n",
            "GR             0\n",
            "DT           127\n",
            "RLN            0\n",
            "LITHOLOGY      0\n",
            "dtype: int64\n",
            "\n",
            "well: 1-RCA-1-PR\n",
            "DEPTH            0\n",
            "CALI         14751\n",
            "GR           14804\n",
            "DT           14823\n",
            "RLN          14800\n",
            "LITHOLOGY        0\n",
            "dtype: int64\n",
            "\n",
            "well: 1-GP-1-PR\n",
            "DEPTH            0\n",
            "CALI          8372\n",
            "GR           15775\n",
            "DT            8443\n",
            "RLN           8386\n",
            "LITHOLOGY        0\n",
            "dtype: int64\n",
            "\n",
            "well: 1-R-1-PR\n",
            "DEPTH          0\n",
            "GR           516\n",
            "DT           987\n",
            "RLN          249\n",
            "LITHOLOGY      1\n",
            "dtype: int64\n"
          ],
          "name": "stdout"
        }
      ]
    },
    {
      "cell_type": "code",
      "metadata": {
        "id": "wjMNDpJcABdQ",
        "outputId": "ce19b410-2110-4536-c122-df647cf9d4a4"
      },
      "source": [
        "for well, logs in dataset.items():    \n",
        "    dataset[well] = dataset[well].dropna(subset=['GR', 'DT', 'RLN', 'LITHOLOGY'], axis=0, how='any')\n",
        "    print('\\nwell: '+well)\n",
        "    print(dataset[well].isna().sum())"
      ],
      "execution_count": null,
      "outputs": [
        {
          "output_type": "stream",
          "text": [
            "\n",
            "well: 1-CA-3-PR\n",
            "DEPTH        0\n",
            "CALI         0\n",
            "GR           0\n",
            "DT           0\n",
            "RLN          0\n",
            "LITHOLOGY    0\n",
            "dtype: int64\n",
            "\n",
            "well: 1-CS-2-PR\n",
            "DEPTH        0\n",
            "CALI         0\n",
            "GR           0\n",
            "DT           0\n",
            "RLN          0\n",
            "LITHOLOGY    0\n",
            "dtype: int64\n",
            "\n",
            "well: 1-MO-2-PR\n",
            "DEPTH        0\n",
            "GR           0\n",
            "DT           0\n",
            "RLN          0\n",
            "LITHOLOGY    0\n",
            "dtype: int64\n",
            "\n",
            "well: 1-RS-1-PR\n",
            "DEPTH        0\n",
            "CALI         0\n",
            "GR           0\n",
            "DT           0\n",
            "RLN          0\n",
            "LITHOLOGY    0\n",
            "dtype: int64\n",
            "\n",
            "well: 2-TB-1-PR\n",
            "DEPTH        0\n",
            "CALI         0\n",
            "GR           0\n",
            "DT           0\n",
            "RLN          0\n",
            "LITHOLOGY    0\n",
            "dtype: int64\n",
            "\n",
            "well: 2-RI-1-PR\n",
            "DEPTH        0\n",
            "CALI         0\n",
            "GR           0\n",
            "DT           0\n",
            "RLN          0\n",
            "LITHOLOGY    0\n",
            "dtype: int64\n",
            "\n",
            "well: 1-RO-1-PR\n",
            "DEPTH        0\n",
            "CALI         0\n",
            "GR           0\n",
            "DT           0\n",
            "RLN          0\n",
            "LITHOLOGY    0\n",
            "dtype: int64\n",
            "\n",
            "well: 2-RP-1-PR\n",
            "DEPTH        0\n",
            "CALI         0\n",
            "GR           0\n",
            "DT           0\n",
            "RLN          0\n",
            "LITHOLOGY    0\n",
            "dtype: int64\n",
            "\n",
            "well: 2-AN-1-PR\n",
            "DEPTH        0\n",
            "CALI         0\n",
            "GR           0\n",
            "DT           0\n",
            "RLN          0\n",
            "LITHOLOGY    0\n",
            "dtype: int64\n",
            "\n",
            "well: 1-GB-1-PR\n",
            "DEPTH            0\n",
            "CALI         39366\n",
            "GR               0\n",
            "DT               0\n",
            "RLN              0\n",
            "LITHOLOGY        0\n",
            "dtype: int64\n",
            "\n",
            "well: 1-API-1-PR\n",
            "DEPTH        0\n",
            "CALI         0\n",
            "GR           0\n",
            "DT           0\n",
            "RLN          0\n",
            "LITHOLOGY    0\n",
            "dtype: int64\n",
            "\n",
            "well: 1-MO-1-PR\n",
            "DEPTH        0\n",
            "GR           0\n",
            "DT           0\n",
            "RLN          0\n",
            "LITHOLOGY    0\n",
            "dtype: int64\n",
            "\n",
            "well: 1-RCA-1-PR\n",
            "DEPTH        0\n",
            "CALI         1\n",
            "GR           0\n",
            "DT           0\n",
            "RLN          0\n",
            "LITHOLOGY    0\n",
            "dtype: int64\n",
            "\n",
            "well: 1-GP-1-PR\n",
            "DEPTH        0\n",
            "CALI         0\n",
            "GR           0\n",
            "DT           0\n",
            "RLN          0\n",
            "LITHOLOGY    0\n",
            "dtype: int64\n",
            "\n",
            "well: 1-R-1-PR\n",
            "DEPTH        0\n",
            "GR           0\n",
            "DT           0\n",
            "RLN          0\n",
            "LITHOLOGY    0\n",
            "dtype: int64\n"
          ],
          "name": "stdout"
        }
      ]
    },
    {
      "cell_type": "code",
      "metadata": {
        "id": "4yeQ794aABdQ"
      },
      "source": [
        "for well, logs in dataset.items():\n",
        "    print('\\nwell: '+well)\n",
        "    print(dataset[well].describe())"
      ],
      "execution_count": null,
      "outputs": []
    },
    {
      "cell_type": "code",
      "metadata": {
        "id": "G20miDeCABdR"
      },
      "source": [
        "for well, logs in dataset.items():\n",
        "    dataset[well] = dataset[well][(logs.GR>0) & (logs.DT>0) & (logs.RLN>0)]"
      ],
      "execution_count": null,
      "outputs": []
    },
    {
      "cell_type": "code",
      "metadata": {
        "id": "r244t_ASABdR"
      },
      "source": [
        "for well, logs in dataset.items():\n",
        "    print('\\nwell: '+well)\n",
        "    print(dataset[well].info())"
      ],
      "execution_count": null,
      "outputs": []
    },
    {
      "cell_type": "code",
      "metadata": {
        "id": "zDnUuICwABdR"
      },
      "source": [
        "#for well, logs in dataset.items():\n",
        "#    if well!='2-TB-1-PR':\n",
        "#        dataset[well]['DT'] = dataset[well]['DT']/3.281"
      ],
      "execution_count": null,
      "outputs": []
    },
    {
      "cell_type": "code",
      "metadata": {
        "id": "q8V4_zHuABdS",
        "outputId": "6714117a-b876-4c57-f67e-2be8111c0447"
      },
      "source": [
        "for well, logs in dataset.items():\n",
        "    print('\\nwell: '+well)\n",
        "    print(dataset[well].LITHOLOGY.unique())"
      ],
      "execution_count": null,
      "outputs": [
        {
          "output_type": "stream",
          "text": [
            "\n",
            "well: 1-CA-3-PR\n",
            "['SS' 'SH' 'DMT' 'ST' 'IGN' 'CLU']\n",
            "\n",
            "well: 1-CS-2-PR\n",
            "['SS' 'ST' 'SH' 'DMT' 'IGN']\n",
            "\n",
            "well: 1-MO-2-PR\n",
            "['DMT' 'SS' 'SH' 'ST' 'CGL' 'IGN']\n",
            "\n",
            "well: 1-RS-1-PR\n",
            "['ST' 'SH' 'IGN' 'DOL' 'SS' 'DMT']\n",
            "\n",
            "well: 2-TB-1-PR\n",
            "['SS' 'SH' 'HT' 'ST']\n",
            "\n",
            "well: 2-RI-1-PR\n",
            "['SH' 'DMT' 'SS' 'ST' 'IGN' 'CGL']\n",
            "\n",
            "well: 1-RO-1-PR\n",
            "['SS' 'ST' 'SH' 'CSS' 'DMT' 'IGN']\n",
            "\n",
            "well: 2-RP-1-PR\n",
            "['SS' 'ST' 'DMT' 'IGN' 'SH']\n",
            "\n",
            "well: 2-AN-1-PR\n",
            "['DMT' 'SS' 'SH' 'ST' 'IGN']\n",
            "\n",
            "well: 1-GB-1-PR\n",
            "['SS' 'SH' 'ST' 'IGN' 'CSS' 'CLU' 'DMT' 'CGL']\n",
            "\n",
            "well: 1-API-1-PR\n",
            "['SH' 'DMT' 'SS' 'IGN' 'ST']\n",
            "\n",
            "well: 1-MO-1-PR\n",
            "['SS' 'DMT' 'ST' 'SH' 'CGL' 'IGN']\n",
            "\n",
            "well: 1-RCA-1-PR\n",
            "['IGN' 'SH' 'SS' 'ST' 'CLU' 'DMT']\n",
            "\n",
            "well: 1-GP-1-PR\n",
            "['DMT' 'SS' 'ST' 'SH' 'IGN']\n",
            "\n",
            "well: 1-R-1-PR\n",
            "['IGN' 'SH' 'DOL' 'SS' 'ST' 'CSS' 'DMT']\n"
          ],
          "name": "stdout"
        }
      ]
    },
    {
      "cell_type": "code",
      "metadata": {
        "id": "Ba9vKJahABdS"
      },
      "source": [
        "def setlithcodes(lithology):\n",
        "    if lithology == 'SS':\n",
        "        return 1\n",
        "    elif lithology == 'ST':\n",
        "        return 2\n",
        "    elif lithology == 'HT':\n",
        "        return 3\n",
        "    elif lithology == 'SH':\n",
        "        return 4\n",
        "    elif lithology == 'CSS':\n",
        "        return 5\n",
        "    elif lithology == 'CST':\n",
        "        return 6\n",
        "    elif lithology == 'CLU':\n",
        "        return 7\n",
        "    elif lithology == 'IGN':\n",
        "        return 8\n",
        "    elif lithology == 'DMT':\n",
        "        return 9\n",
        "    elif lithology == 'CGL':\n",
        "        return 10\n",
        "    elif lithology == 'DOL':\n",
        "        return 11\n"
      ],
      "execution_count": null,
      "outputs": []
    },
    {
      "cell_type": "code",
      "metadata": {
        "id": "Pd_zaBdcABdS"
      },
      "source": [
        "for well, logs in dataset.items():    \n",
        "    dataset[well]['LITH_CODE'] = logs.apply(lambda x: setlithcodes(x['LITHOLOGY']), axis=1)"
      ],
      "execution_count": null,
      "outputs": []
    },
    {
      "cell_type": "code",
      "metadata": {
        "id": "h6B4OT66ABdS"
      },
      "source": [
        "def log_plot(logs, logcolor, logmin, logmax, logscale, logtrack, faciescolor, faciescode, clustercolor=0):\n",
        "    logs = logs.sort_values(by='DEPTH')\n",
        "    top = logs.DEPTH.min()\n",
        "    bottom = logs.DEPTH.max()\n",
        "    n_cols = max(logtrack.values())+2\n",
        "    if clustercolor!=0:\n",
        "        n_cols = n_cols+1\n",
        "    facies_track = n_cols-1\n",
        "    cluster_track = n_cols-2\n",
        "    f, ax = plt.subplots(nrows = 1, ncols = n_cols, figsize = (12,8))\n",
        "    \n",
        "    for k, v in logtrack.items():\n",
        "        ax[v].plot(logs[k], logs.DEPTH, color = logcolor[k], label = k)\n",
        "        ax[v].set_xlabel(k)\n",
        "        ax[v].set_xlim(logmin[k],logmax[k])\n",
        "        ax[v].set_xscale(logscale[k])\n",
        "        ax[v].set_ylim(top, bottom)\n",
        "        ax[v].invert_yaxis()\n",
        "        ax[v].grid(True)        \n",
        "        ax[v].legend(fontsize='small', loc='upper right')\n",
        "        \n",
        "    cmap_facies = colors.ListedColormap(faciescolor, 'indexed')\n",
        "    cluster=np.repeat(np.expand_dims(logs['LITH_CODE'].values,1),100,1)\n",
        "    im=ax[facies_track].imshow(cluster, interpolation='none', aspect='auto',cmap=cmap_facies)\n",
        "    cbar=plt.colorbar(im, ax=ax[facies_track])\n",
        "    labels = faciescode\n",
        "    cbar.set_label((20*' ').join(labels))\n",
        "    cbar.set_ticks(range(0,1)); cbar.set_ticklabels('')\n",
        "    \n",
        "    if clustercolor!=0:\n",
        "        cmap_cluster = colors.ListedColormap(clustercolor.values())\n",
        "        cluster2=np.repeat(np.expand_dims(logs['CLUSTER'].values,1),100,1)\n",
        "        im2=ax[cluster_track].imshow(cluster2, interpolation='none', aspect='auto',cmap=cmap_cluster)\n",
        "        #cbar2=plt.colorbar(im2, ax=ax[cluster_track])\n",
        "        #labels2 = map(str, clustercolor.keys())\n",
        "        #cbar2.set_label((15*' ').join(labels2))\n",
        "        #cbar2.set_ticks(range(0,1)); cbar.set_ticklabels('')\n",
        "        ax[cluster_track].set_xlabel(\"Clusters\")\n",
        "        ax[cluster_track].set_xticklabels([])\n",
        "    \n",
        "        \n",
        "    for i in ax[1:]:\n",
        "        i.set_yticklabels([])\n",
        "        #i.locator_params(axis='x', nbins=4)\n",
        "    ax[0].set_ylabel(\"Depth (m)\")   \n",
        "    ax[facies_track].set_xlabel(\"Lithology\")\n",
        "    ax[facies_track].set_xticklabels([])\n",
        "    #ax.set_axis_off()\n",
        "    \n",
        "    #f.suptitle('Well: 2-TB-1-PR', fontsize=14,y=0.94)"
      ],
      "execution_count": null,
      "outputs": []
    },
    {
      "cell_type": "code",
      "metadata": {
        "id": "Ua9S3EiFABdT",
        "outputId": "65d3205c-f2c6-4777-cab1-cf019f1b5a2b"
      },
      "source": [
        "dataset['2-RP-1-PR'].LITHOLOGY.unique()"
      ],
      "execution_count": null,
      "outputs": [
        {
          "output_type": "execute_result",
          "data": {
            "text/plain": [
              "array(['SS', 'ST', 'DMT', 'IGN', 'SH'], dtype=object)"
            ]
          },
          "metadata": {
            "tags": []
          },
          "execution_count": 49
        }
      ]
    },
    {
      "cell_type": "code",
      "metadata": {
        "id": "StyxqQ7vABdT"
      },
      "source": [
        "logs = dataset['2-RP-1-PR'][['DEPTH', 'CALI', 'GR', 'DT', 'RLN', 'LITHOLOGY', 'LITH_CODE']]\n",
        "logcolor = {'CALI':'blue', 'GR':'green', 'DT':'black', 'RLN':'black'}\n",
        "faciescode = ['SS', 'ST', 'DMT', 'IGN', 'SH']\n",
        "faciescolor = ['yellow', 'orange', 'green' ,'red', 'black']\n",
        "logtrack = {'CALI':0, 'GR':1, 'DT':2, 'RLN':3}\n",
        "logmin = {'CALI':3, 'GR':0, 'DT':140, 'RLN':10}\n",
        "logmax = {'CALI':4, 'GR':250, 'DT':40, 'RLN':200}\n",
        "logscale = {'CALI':'linear', 'GR':'linear', 'DT':'linear', 'RLN':'log'}\n"
      ],
      "execution_count": null,
      "outputs": []
    },
    {
      "cell_type": "code",
      "metadata": {
        "id": "MdKlXsSRABdU",
        "outputId": "3f191e3a-21fd-48d5-a7ff-385014b1a2a6"
      },
      "source": [
        "log_plot(logs, logcolor, logmin, logmax, logscale, logtrack, faciescolor, faciescode)"
      ],
      "execution_count": null,
      "outputs": [
        {
          "output_type": "display_data",
          "data": {
            "image/png": "[encoded data removed]",
            "text/plain": [
              "<Figure size 864x576 with 6 Axes>"
            ]
          },
          "metadata": {
            "tags": []
          }
        }
      ]
    },
    {
      "cell_type": "code",
      "metadata": {
        "id": "s5j_jaB9ABdU"
      },
      "source": [
        "#logs = logs.astype({\"LITHOLOGY\":'category'})\n",
        "\n",
        "logs['GR'] = logs['GR'].rolling(12, min_periods=1).mean()\n",
        "logs['DT'] = logs['DT'].rolling(12, min_periods=1).mean()\n",
        "logs['RLN'] = logs['RLN'].rolling(12, min_periods=1).mean()\n",
        "logs['RLAT'] = logs['RLAT'].rolling(12, min_periods=1).mean()"
      ],
      "execution_count": null,
      "outputs": []
    },
    {
      "cell_type": "code",
      "metadata": {
        "id": "_cCArXyxABdU"
      },
      "source": [
        "log_plot(logs, logcolor, logmin, logmax, logscale, logtrack, faciescolor)"
      ],
      "execution_count": null,
      "outputs": []
    },
    {
      "cell_type": "code",
      "metadata": {
        "id": "m-ouOjBgABdU"
      },
      "source": [
        "logs.info()"
      ],
      "execution_count": null,
      "outputs": []
    },
    {
      "cell_type": "code",
      "metadata": {
        "id": "CMsMYXA4ABdU"
      },
      "source": [
        "sns.set_style(\"white\")\n",
        "\n",
        "plt.figure(figsize = (10,7), dpi = 80)\n",
        "\n",
        "sns.histplot(data=logs, x = 'GR', hue='LITHOLOGY', palette=faciescolor, stat = 'density', kde=True)\n",
        "plt.xlim(logs.GR.min(),logs.GR.max())\n",
        "\n",
        "plt.figure(figsize = (10,7), dpi = 80)\n",
        "sns.histplot(data=logs, x = 'DT', hue='LITHOLOGY', palette=faciescolor, stat = 'density', kde=True)\n",
        "plt.xlim(logs.DT.min(),logs.DT.max())\n",
        "\n",
        "plt.figure(figsize = (10,7), dpi = 80)\n",
        "sns.histplot(data=logs, x = 'RLN', hue='LITHOLOGY', palette=faciescolor, stat = 'density', kde=True, log_scale=True)\n",
        "plt.xlim(logs.RLN.min(),logs.DT.max())\n"
      ],
      "execution_count": null,
      "outputs": []
    },
    {
      "cell_type": "code",
      "metadata": {
        "id": "ysdZSP-qABdV"
      },
      "source": [
        "ax1 = sns.lmplot(data=logs, x='GR', y='DT', hue='LITHOLOGY', palette=faciescolor, fit_reg=False).set(xlim=(50, 220), ylim=(60, 110))\n",
        "ax2 = sns.lmplot(data=logs, x='GR', y='RLAT', hue='LITHOLOGY', palette=faciescolor, fit_reg=False).set(xlim=(50, 220), ylim=(200, 20))\n",
        "ax2.set(yscale=\"log\")\n",
        "ax3 = sns.lmplot(data=logs, x='GR', y='RLN', hue='LITHOLOGY', palette=faciescolor, fit_reg=False).set(xlim=(50, 220), ylim=(200, 20))\n",
        "ax3.set(yscale=\"log\")\n"
      ],
      "execution_count": null,
      "outputs": []
    },
    {
      "cell_type": "code",
      "metadata": {
        "id": "jQl5oopDABdV"
      },
      "source": [
        "logs['Vsh'] = (logs.GR - logs.GR.min()) / (logs.GR.max() - logs.GR.min())"
      ],
      "execution_count": null,
      "outputs": []
    },
    {
      "cell_type": "code",
      "metadata": {
        "id": "rEqUjOuZABdV"
      },
      "source": [
        "logcolor['Vsh'] = 'green'\n",
        "logtrack['Vsh'] = 5\n",
        "logmin['Vsh'] = 0\n",
        "logmax['Vsh'] = 1\n",
        "logscale['Vsh'] = 'linear'"
      ],
      "execution_count": null,
      "outputs": []
    },
    {
      "cell_type": "code",
      "metadata": {
        "id": "Boh0MVY4ABdV"
      },
      "source": [
        "logs.head()"
      ],
      "execution_count": null,
      "outputs": []
    },
    {
      "cell_type": "code",
      "metadata": {
        "id": "cwjSCQeWABdV"
      },
      "source": [
        "from sklearn.preprocessing import scale\n",
        "logs_norm = logs.iloc[:, 2:5]\n",
        "data = scale(logs_norm)"
      ],
      "execution_count": null,
      "outputs": []
    },
    {
      "cell_type": "code",
      "metadata": {
        "id": "RodqsYaPABdV"
      },
      "source": [
        "data"
      ],
      "execution_count": null,
      "outputs": []
    },
    {
      "cell_type": "code",
      "metadata": {
        "id": "_WauoE5hABdW"
      },
      "source": [
        "inertias = []\n",
        "means = []\n",
        "maxK = 30\n",
        "for k in range(1, maxK):\n",
        "    kmeans = KMeans(n_clusters=k, random_state=0).fit(data)\n",
        "    means.append(k)\n",
        "    inertias.append(kmeans.inertia_)\n",
        "\n",
        "fig = plt.figure(figsize=(10,5))\n",
        "plt.plot(means, inertias, 'o-')\n",
        "plt.xlabel('# of clusters', fontsize=24)\n",
        "plt.ylabel('Sum of squared errors', fontsize=24)\n",
        "plt.tick_params(labelsize=18)\n",
        "# fig.savefig('images/Figure_3_k_means.tif', dpi=300, bbox_inches='tight')\n",
        "# fig.savefig('images/Figure_3_k_means.png', dpi=300, bbox_inches='tight')"
      ],
      "execution_count": null,
      "outputs": []
    },
    {
      "cell_type": "code",
      "metadata": {
        "id": "My_Sr9LLABdW"
      },
      "source": [
        "kmeans = KMeans(n_clusters=5, random_state=0)\n",
        "kmeans.fit(data)\n",
        "\n",
        "# add the cluster ids to the dataset\n",
        "#logs['Cluster'] = kmeans.labels_ + 1\n",
        "logs['CLUSTER'] = kmeans.labels_"
      ],
      "execution_count": null,
      "outputs": []
    },
    {
      "cell_type": "code",
      "metadata": {
        "id": "LebqmfjtABdW"
      },
      "source": [
        "cluster_colors = {2:'yellow', 4:'orange', 0:'green', 3:'purple', 1:'black'}\n",
        "\n",
        "fig, ax = plt.subplots(2,2, figsize=(12,8), sharex=True)\n",
        "b = sns.boxplot(x='CLUSTER', y='GR', linewidth=0.5,\n",
        "            data=logs, ax=ax[0,0],\n",
        "            palette=cluster_colors.values(), order=[2, 4, 0, 3, 1])\n",
        "b.set_title(\"A\",fontsize=20)\n",
        "b.set_xlabel(\"\")\n",
        "b.set_ylabel(\"GR (gAPI)\",fontsize=20)\n",
        "b.tick_params(labelsize=14)\n",
        "\n",
        "b = sns.boxplot(x='CLUSTER', y='DT', linewidth=0.5,\n",
        "            data=logs, ax=ax[0,1],\n",
        "            palette=cluster_colors.values(), order=[2, 4, 0, 3, 1])\n",
        "b.set_title(\"B\",fontsize=20)\n",
        "b.set_xlabel(\"\")\n",
        "b.set_ylabel(\"DT (uS/ft)\",fontsize=20)\n",
        "b.tick_params(labelsize=14)\n",
        "\n",
        "b=sns.boxplot(x='CLUSTER', y='RLN', linewidth=0.5,\n",
        "            data=logs, ax=ax[1,0],\n",
        "            palette=cluster_colors.values(), order=[2, 4, 0, 3, 1])\n",
        "b.set_title(\"C\",fontsize=20)\n",
        "b.set_xlabel(\"Cluster Index\",fontsize=20)\n",
        "b.set_ylabel(\"RLN (ohm.m)\",fontsize=20)\n",
        "b.tick_params(labelsize=14)\n",
        "b.invert_yaxis()\n",
        "b.set_yscale(\"log\")\n",
        "\n",
        "b=sns.boxplot(x='CLUSTER', y='RLAT', linewidth=0.5,\n",
        "            data=logs, ax=ax[1,1],\n",
        "            palette=cluster_colors.values(), order=[2, 4, 0, 3, 1])\n",
        "b.set_title(\"D\",fontsize=20)\n",
        "b.set_xlabel(\"Cluster Index\",fontsize=20)\n",
        "b.set_ylabel(\"RLAT (ohmm)\",fontsize=20)\n",
        "b.tick_params(labelsize=14)\n",
        "b.invert_yaxis()\n",
        "b.set_yscale(\"log\")\n",
        "\n",
        "#plt.tight_layout()\n",
        "# fig.savefig('images/Figure_4_Cluster_fingerprint.png', dpi=300, bbox_inches='tight')\n",
        "# fig.savefig('images/Figure_4_Cluster_fingerprint.tif', dpi=300, bbox_inches='tight')"
      ],
      "execution_count": null,
      "outputs": []
    },
    {
      "cell_type": "code",
      "metadata": {
        "id": "c2rKKUPMABdW"
      },
      "source": [
        "logs.head()"
      ],
      "execution_count": null,
      "outputs": []
    },
    {
      "cell_type": "code",
      "metadata": {
        "id": "VmgDaOLMABdW"
      },
      "source": [
        "clustercolor = {0:'green', 1:'black', 2:'yellow', 3:'purple', 4:'orange' }\n",
        "log_plot(logs, logcolor, logmin, logmax, logscale, logtrack, faciescolor, clustercolor)"
      ],
      "execution_count": null,
      "outputs": []
    },
    {
      "cell_type": "code",
      "metadata": {
        "id": "vdYRHCmxABdW"
      },
      "source": [
        ""
      ],
      "execution_count": null,
      "outputs": []
    },
    {
      "cell_type": "code",
      "metadata": {
        "id": "i6e9hSR3ABdX"
      },
      "source": [
        ""
      ],
      "execution_count": null,
      "outputs": []
    },
    {
      "cell_type": "code",
      "metadata": {
        "id": "BavT-AKVABdX"
      },
      "source": [
        ""
      ],
      "execution_count": null,
      "outputs": []
    },
    {
      "cell_type": "code",
      "metadata": {
        "id": "glGpsSldABdX"
      },
      "source": [
        ""
      ],
      "execution_count": null,
      "outputs": []
    },
    {
      "cell_type": "code",
      "metadata": {
        "id": "rFOLgZE_ABdX"
      },
      "source": [
        ""
      ],
      "execution_count": null,
      "outputs": []
    },
    {
      "cell_type": "code",
      "metadata": {
        "id": "B5qT-nxnABdX"
      },
      "source": [
        ""
      ],
      "execution_count": null,
      "outputs": []
    }
  ]
}